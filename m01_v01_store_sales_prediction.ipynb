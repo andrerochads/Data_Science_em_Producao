{
 "cells": [
  {
   "attachments": {},
   "cell_type": "markdown",
   "metadata": {},
   "source": [
    "# 0.0 IMPORTS"
   ]
  },
  {
   "cell_type": "code",
   "execution_count": 63,
   "metadata": {},
   "outputs": [],
   "source": [
    "import pandas as pd\n",
    "import numpy as np\n",
    "import seaborn as sns\n",
    "import matplotlib.pyplot as plt\n",
    "import plotly as px\n",
    "import inflection\n",
    "import math\n",
    "import datetime\n",
    "from IPython.core.display import HTML\n",
    "from IPython.display import Image"
   ]
  },
  {
   "attachments": {},
   "cell_type": "markdown",
   "metadata": {},
   "source": [
    "## 0.1 Helper Functions"
   ]
  },
  {
   "cell_type": "code",
   "execution_count": null,
   "metadata": {},
   "outputs": [],
   "source": []
  },
  {
   "attachments": {},
   "cell_type": "markdown",
   "metadata": {},
   "source": [
    "## 0.2 Loading Data"
   ]
  },
  {
   "cell_type": "code",
   "execution_count": 64,
   "metadata": {},
   "outputs": [
    {
     "data": {
      "text/html": [
       "<div>\n",
       "<style scoped>\n",
       "    .dataframe tbody tr th:only-of-type {\n",
       "        vertical-align: middle;\n",
       "    }\n",
       "\n",
       "    .dataframe tbody tr th {\n",
       "        vertical-align: top;\n",
       "    }\n",
       "\n",
       "    .dataframe thead th {\n",
       "        text-align: right;\n",
       "    }\n",
       "</style>\n",
       "<table border=\"1\" class=\"dataframe\">\n",
       "  <thead>\n",
       "    <tr style=\"text-align: right;\">\n",
       "      <th></th>\n",
       "      <th>Store</th>\n",
       "      <th>DayOfWeek</th>\n",
       "      <th>Date</th>\n",
       "      <th>Sales</th>\n",
       "      <th>Customers</th>\n",
       "      <th>Open</th>\n",
       "      <th>Promo</th>\n",
       "      <th>StateHoliday</th>\n",
       "      <th>SchoolHoliday</th>\n",
       "      <th>StoreType</th>\n",
       "      <th>Assortment</th>\n",
       "      <th>CompetitionDistance</th>\n",
       "      <th>CompetitionOpenSinceMonth</th>\n",
       "      <th>CompetitionOpenSinceYear</th>\n",
       "      <th>Promo2</th>\n",
       "      <th>Promo2SinceWeek</th>\n",
       "      <th>Promo2SinceYear</th>\n",
       "      <th>PromoInterval</th>\n",
       "    </tr>\n",
       "  </thead>\n",
       "  <tbody>\n",
       "    <tr>\n",
       "      <th>283260</th>\n",
       "      <td>161</td>\n",
       "      <td>2</td>\n",
       "      <td>2014-11-11</td>\n",
       "      <td>8227</td>\n",
       "      <td>886</td>\n",
       "      <td>1</td>\n",
       "      <td>1</td>\n",
       "      <td>0</td>\n",
       "      <td>0</td>\n",
       "      <td>a</td>\n",
       "      <td>c</td>\n",
       "      <td>2970.0</td>\n",
       "      <td>3.0</td>\n",
       "      <td>2005.0</td>\n",
       "      <td>0</td>\n",
       "      <td>NaN</td>\n",
       "      <td>NaN</td>\n",
       "      <td>NaN</td>\n",
       "    </tr>\n",
       "  </tbody>\n",
       "</table>\n",
       "</div>"
      ],
      "text/plain": [
       "        Store  DayOfWeek        Date  Sales  Customers  Open  Promo  \\\n",
       "283260    161          2  2014-11-11   8227        886     1      1   \n",
       "\n",
       "       StateHoliday  SchoolHoliday StoreType Assortment  CompetitionDistance  \\\n",
       "283260            0              0         a          c               2970.0   \n",
       "\n",
       "        CompetitionOpenSinceMonth  CompetitionOpenSinceYear  Promo2  \\\n",
       "283260                        3.0                    2005.0       0   \n",
       "\n",
       "        Promo2SinceWeek  Promo2SinceYear PromoInterval  \n",
       "283260              NaN              NaN           NaN  "
      ]
     },
     "execution_count": 64,
     "metadata": {},
     "output_type": "execute_result"
    }
   ],
   "source": [
    "# EXPLANATION - Loading Data\n",
    "'''\n",
    "Primeiro lemos os arquivos e usamos e passamos o parâmetro low_memory false para ele entender que pode ler tudo de uma vez, se colocar \n",
    "true ele carregará os dados por chunckys, isso é pra pc fraco);\n",
    "\n",
    "Em seguida fazemos o merge dos csv lidos;\n",
    "\n",
    "E o .sample é pra ver se funcionou, pega uma linha aleatória do df.\n",
    "\n",
    "'''\n",
    "\n",
    "df_sales_raw = pd.read_csv('data/train.csv', low_memory = False)\n",
    "df_store_raw = pd.read_csv('data/store.csv', low_memory = False)\n",
    "\n",
    "# Merge\n",
    "df_raw = pd.merge(df_sales_raw, df_store_raw, how = 'left', on = 'Store')\n",
    "\n",
    "df_raw.sample()"
   ]
  },
  {
   "attachments": {},
   "cell_type": "markdown",
   "metadata": {},
   "source": [
    "# 1.0 Descrição dos Dados  - (Passo 1)"
   ]
  },
  {
   "cell_type": "code",
   "execution_count": 65,
   "metadata": {},
   "outputs": [],
   "source": [
    "df1 = df_raw.copy()"
   ]
  },
  {
   "cell_type": "code",
   "execution_count": 66,
   "metadata": {},
   "outputs": [
    {
     "data": {
      "text/html": [
       "<div>\n",
       "<style scoped>\n",
       "    .dataframe tbody tr th:only-of-type {\n",
       "        vertical-align: middle;\n",
       "    }\n",
       "\n",
       "    .dataframe tbody tr th {\n",
       "        vertical-align: top;\n",
       "    }\n",
       "\n",
       "    .dataframe thead th {\n",
       "        text-align: right;\n",
       "    }\n",
       "</style>\n",
       "<table border=\"1\" class=\"dataframe\">\n",
       "  <thead>\n",
       "    <tr style=\"text-align: right;\">\n",
       "      <th></th>\n",
       "      <th>Store</th>\n",
       "      <th>DayOfWeek</th>\n",
       "      <th>Date</th>\n",
       "      <th>Sales</th>\n",
       "      <th>Customers</th>\n",
       "      <th>Open</th>\n",
       "      <th>Promo</th>\n",
       "      <th>StateHoliday</th>\n",
       "      <th>SchoolHoliday</th>\n",
       "      <th>StoreType</th>\n",
       "      <th>Assortment</th>\n",
       "      <th>CompetitionDistance</th>\n",
       "      <th>CompetitionOpenSinceMonth</th>\n",
       "      <th>CompetitionOpenSinceYear</th>\n",
       "      <th>Promo2</th>\n",
       "      <th>Promo2SinceWeek</th>\n",
       "      <th>Promo2SinceYear</th>\n",
       "      <th>PromoInterval</th>\n",
       "    </tr>\n",
       "  </thead>\n",
       "  <tbody>\n",
       "    <tr>\n",
       "      <th>0</th>\n",
       "      <td>1</td>\n",
       "      <td>5</td>\n",
       "      <td>2015-07-31</td>\n",
       "      <td>5263</td>\n",
       "      <td>555</td>\n",
       "      <td>1</td>\n",
       "      <td>1</td>\n",
       "      <td>0</td>\n",
       "      <td>1</td>\n",
       "      <td>c</td>\n",
       "      <td>a</td>\n",
       "      <td>1270.0</td>\n",
       "      <td>9.0</td>\n",
       "      <td>2008.0</td>\n",
       "      <td>0</td>\n",
       "      <td>NaN</td>\n",
       "      <td>NaN</td>\n",
       "      <td>NaN</td>\n",
       "    </tr>\n",
       "    <tr>\n",
       "      <th>1</th>\n",
       "      <td>2</td>\n",
       "      <td>5</td>\n",
       "      <td>2015-07-31</td>\n",
       "      <td>6064</td>\n",
       "      <td>625</td>\n",
       "      <td>1</td>\n",
       "      <td>1</td>\n",
       "      <td>0</td>\n",
       "      <td>1</td>\n",
       "      <td>a</td>\n",
       "      <td>a</td>\n",
       "      <td>570.0</td>\n",
       "      <td>11.0</td>\n",
       "      <td>2007.0</td>\n",
       "      <td>1</td>\n",
       "      <td>13.0</td>\n",
       "      <td>2010.0</td>\n",
       "      <td>Jan,Apr,Jul,Oct</td>\n",
       "    </tr>\n",
       "    <tr>\n",
       "      <th>2</th>\n",
       "      <td>3</td>\n",
       "      <td>5</td>\n",
       "      <td>2015-07-31</td>\n",
       "      <td>8314</td>\n",
       "      <td>821</td>\n",
       "      <td>1</td>\n",
       "      <td>1</td>\n",
       "      <td>0</td>\n",
       "      <td>1</td>\n",
       "      <td>a</td>\n",
       "      <td>a</td>\n",
       "      <td>14130.0</td>\n",
       "      <td>12.0</td>\n",
       "      <td>2006.0</td>\n",
       "      <td>1</td>\n",
       "      <td>14.0</td>\n",
       "      <td>2011.0</td>\n",
       "      <td>Jan,Apr,Jul,Oct</td>\n",
       "    </tr>\n",
       "    <tr>\n",
       "      <th>3</th>\n",
       "      <td>4</td>\n",
       "      <td>5</td>\n",
       "      <td>2015-07-31</td>\n",
       "      <td>13995</td>\n",
       "      <td>1498</td>\n",
       "      <td>1</td>\n",
       "      <td>1</td>\n",
       "      <td>0</td>\n",
       "      <td>1</td>\n",
       "      <td>c</td>\n",
       "      <td>c</td>\n",
       "      <td>620.0</td>\n",
       "      <td>9.0</td>\n",
       "      <td>2009.0</td>\n",
       "      <td>0</td>\n",
       "      <td>NaN</td>\n",
       "      <td>NaN</td>\n",
       "      <td>NaN</td>\n",
       "    </tr>\n",
       "    <tr>\n",
       "      <th>4</th>\n",
       "      <td>5</td>\n",
       "      <td>5</td>\n",
       "      <td>2015-07-31</td>\n",
       "      <td>4822</td>\n",
       "      <td>559</td>\n",
       "      <td>1</td>\n",
       "      <td>1</td>\n",
       "      <td>0</td>\n",
       "      <td>1</td>\n",
       "      <td>a</td>\n",
       "      <td>a</td>\n",
       "      <td>29910.0</td>\n",
       "      <td>4.0</td>\n",
       "      <td>2015.0</td>\n",
       "      <td>0</td>\n",
       "      <td>NaN</td>\n",
       "      <td>NaN</td>\n",
       "      <td>NaN</td>\n",
       "    </tr>\n",
       "  </tbody>\n",
       "</table>\n",
       "</div>"
      ],
      "text/plain": [
       "   Store  DayOfWeek        Date  Sales  Customers  Open  Promo StateHoliday  \\\n",
       "0      1          5  2015-07-31   5263        555     1      1            0   \n",
       "1      2          5  2015-07-31   6064        625     1      1            0   \n",
       "2      3          5  2015-07-31   8314        821     1      1            0   \n",
       "3      4          5  2015-07-31  13995       1498     1      1            0   \n",
       "4      5          5  2015-07-31   4822        559     1      1            0   \n",
       "\n",
       "   SchoolHoliday StoreType Assortment  CompetitionDistance  \\\n",
       "0              1         c          a               1270.0   \n",
       "1              1         a          a                570.0   \n",
       "2              1         a          a              14130.0   \n",
       "3              1         c          c                620.0   \n",
       "4              1         a          a              29910.0   \n",
       "\n",
       "   CompetitionOpenSinceMonth  CompetitionOpenSinceYear  Promo2  \\\n",
       "0                        9.0                    2008.0       0   \n",
       "1                       11.0                    2007.0       1   \n",
       "2                       12.0                    2006.0       1   \n",
       "3                        9.0                    2009.0       0   \n",
       "4                        4.0                    2015.0       0   \n",
       "\n",
       "   Promo2SinceWeek  Promo2SinceYear    PromoInterval  \n",
       "0              NaN              NaN              NaN  \n",
       "1             13.0           2010.0  Jan,Apr,Jul,Oct  \n",
       "2             14.0           2011.0  Jan,Apr,Jul,Oct  \n",
       "3              NaN              NaN              NaN  \n",
       "4              NaN              NaN              NaN  "
      ]
     },
     "execution_count": 66,
     "metadata": {},
     "output_type": "execute_result"
    }
   ],
   "source": [
    "df1.head()"
   ]
  },
  {
   "attachments": {},
   "cell_type": "markdown",
   "metadata": {},
   "source": [
    "## 1.1 Rename Columns"
   ]
  },
  {
   "cell_type": "code",
   "execution_count": 67,
   "metadata": {},
   "outputs": [
    {
     "data": {
      "text/plain": [
       "Index(['store', 'day_of_week', 'date', 'sales', 'customers', 'open', 'promo',\n",
       "       'state_holiday', 'school_holiday', 'store_type', 'assortment',\n",
       "       'competition_distance', 'competition_open_since_month',\n",
       "       'competition_open_since_year', 'promo2', 'promo2_since_week',\n",
       "       'promo2_since_year', 'promo_interval'],\n",
       "      dtype='object')"
      ]
     },
     "execution_count": 67,
     "metadata": {},
     "output_type": "execute_result"
    }
   ],
   "source": [
    "# EXPLANATION - Rename Columns\n",
    "'''\n",
    "É necessário renomear as colunas que vem dos bancos de dados (sql) para facilitar nossa visualização. Dessa forma, \n",
    "1- Pegamos os nomes das colunas usando o .columns no df, copiamos e jogamos na cols_old.\n",
    "2- Criamos a função snakecase para remover o camelcase\n",
    "3- Criamos uma lista com o nome das colunas\n",
    "4- atribuímos ao df.\n",
    "\n",
    "'''\n",
    "\n",
    "cols_old = ['Store', 'DayOfWeek', 'Date', 'Sales', 'Customers', 'Open', 'Promo',\n",
    "       'StateHoliday', 'SchoolHoliday', 'StoreType', 'Assortment',\n",
    "       'CompetitionDistance', 'CompetitionOpenSinceMonth',\n",
    "       'CompetitionOpenSinceYear', 'Promo2', 'Promo2SinceWeek',\n",
    "       'Promo2SinceYear', 'PromoInterval']\n",
    "\n",
    "snakecase = lambda x: inflection.underscore(x)\n",
    "\n",
    "cols_new = list(map(snakecase, cols_old))\n",
    "\n",
    "df1.columns = cols_new\n",
    "\n",
    "df1.columns"
   ]
  },
  {
   "attachments": {},
   "cell_type": "markdown",
   "metadata": {},
   "source": [
    "## 1.2 Data Dimension"
   ]
  },
  {
   "cell_type": "code",
   "execution_count": 68,
   "metadata": {},
   "outputs": [
    {
     "name": "stdout",
     "output_type": "stream",
     "text": [
      "Number of Rows: 1017209\n",
      "Number of Cols: 18\n"
     ]
    }
   ],
   "source": [
    "# EXPLANATION - Data Dimension\n",
    "'''\n",
    "Qual o tamanho de linhas e colunas desse dataset?\n",
    "\n",
    "Esse tanto de linhas o computador consegue rodar, se não, pode tentar no colabs ou em alguma cloud.\n",
    "'''\n",
    "\n",
    "print('Number of Rows: {}'.format(df1.shape[0]))\n",
    "print('Number of Cols: {}'.format(df1.shape[1]))"
   ]
  },
  {
   "attachments": {},
   "cell_type": "markdown",
   "metadata": {},
   "source": [
    "## 1.3. Date Types"
   ]
  },
  {
   "cell_type": "code",
   "execution_count": 69,
   "metadata": {},
   "outputs": [
    {
     "data": {
      "text/plain": [
       "store                                    int64\n",
       "day_of_week                              int64\n",
       "date                            datetime64[ns]\n",
       "sales                                    int64\n",
       "customers                                int64\n",
       "open                                     int64\n",
       "promo                                    int64\n",
       "state_holiday                           object\n",
       "school_holiday                           int64\n",
       "store_type                              object\n",
       "assortment                              object\n",
       "competition_distance                   float64\n",
       "competition_open_since_month           float64\n",
       "competition_open_since_year            float64\n",
       "promo2                                   int64\n",
       "promo2_since_week                      float64\n",
       "promo2_since_year                      float64\n",
       "promo_interval                          object\n",
       "dtype: object"
      ]
     },
     "execution_count": 69,
     "metadata": {},
     "output_type": "execute_result"
    }
   ],
   "source": [
    "# EXPLANATION - Date Types\n",
    "'''\n",
    "Lembrar mudar a coluna date para data msm.\n",
    "'''\n",
    "df1['date'] = pd.to_datetime(df1['date'])\n",
    "df1.dtypes"
   ]
  },
  {
   "attachments": {},
   "cell_type": "markdown",
   "metadata": {},
   "source": [
    "## 1.4. Check NA"
   ]
  },
  {
   "cell_type": "code",
   "execution_count": 70,
   "metadata": {},
   "outputs": [
    {
     "data": {
      "text/plain": [
       "store                                0\n",
       "day_of_week                          0\n",
       "date                                 0\n",
       "sales                                0\n",
       "customers                            0\n",
       "open                                 0\n",
       "promo                                0\n",
       "state_holiday                        0\n",
       "school_holiday                       0\n",
       "store_type                           0\n",
       "assortment                           0\n",
       "competition_distance              2642\n",
       "competition_open_since_month    323348\n",
       "competition_open_since_year     323348\n",
       "promo2                               0\n",
       "promo2_since_week               508031\n",
       "promo2_since_year               508031\n",
       "promo_interval                  508031\n",
       "dtype: int64"
      ]
     },
     "execution_count": 70,
     "metadata": {},
     "output_type": "execute_result"
    }
   ],
   "source": [
    "# EXPLANATION - Data Dimension\n",
    "'''\n",
    "Existem 3 maneiras de tratar as NAs\n",
    "1- Descatar as linhas com pelo menos um NA.\n",
    "    Vantagem: rápido e fácil.\n",
    "    Desvantagem (grande): está jogando dado fora - e se vc não tiver muitas linhas vc prejudica até a performance do seu modelo de ml\n",
    "\n",
    "2- Usar algoritmos de ML - existem métodos que usa o próprio comportamento das colunas pra preencher aquele NA, exemplo, pode calcular a média ou mediana,\n",
    "tem algoritmos que prevem que número seria ali se não fosse NA. Quando não se tem informação de negócio esse é uma caminho a se seguir (usando técnica para\n",
    "recuperar dados faltantes).\n",
    "\n",
    "3- É realmente entendendo o negócio vc descobre pq esse NA está aqui, pq é uma lógica de negócio que definiram no começo e se souber essa regra vc consegue\n",
    "colocar valor nos NAs e recuperar os dados. \n",
    "'''\n",
    "\n",
    "df1.isna().sum()"
   ]
  },
  {
   "attachments": {},
   "cell_type": "markdown",
   "metadata": {},
   "source": [
    "## 1.5 Fillout NA"
   ]
  },
  {
   "cell_type": "code",
   "execution_count": 71,
   "metadata": {},
   "outputs": [],
   "source": [
    "# Data fields\n",
    "# Most of the fields are self-explanatory. The following are descriptions for those that aren't.\n",
    "\n",
    "# Id - an Id that represents a (Store, Date) duple within the test set\n",
    "# Store - a unique Id for each store\n",
    "# Sales - the turnover for any given day (this is what you are predicting)\n",
    "# Customers - the number of customers on a given day\n",
    "# Open - an indicator for whether the store was open: 0 = closed, 1 = open\n",
    "# StateHoliday - indicates a state holiday. Normally all stores, with few exceptions, are closed on state holidays. Note that all schools are closed on public holidays and weekends. a = public holiday, b = Easter holiday, c = Christmas, 0 = None\n",
    "# SchoolHoliday - indicates if the (Store, Date) was affected by the closure of public schools\n",
    "# StoreType - differentiates between 4 different store models: a, b, c, d\n",
    "# Assortment - describes an assortment level: a = basic, b = extra, c = extended\n",
    "# CompetitionDistance - distance in meters to the nearest competitor store\n",
    "# CompetitionOpenSince[Month/Year] - gives the approximate year and month of the time the nearest competitor was opened\n",
    "# Promo - indicates whether a store is running a promo on that day\n",
    "# Promo2 - Promo2 is a continuing and consecutive promotion for some stores: 0 = store is not participating, 1 = store is participating\n",
    "# Promo2Since[Year/Week] - describes the year and calendar week when the store started participating in Promo2\n",
    "# PromoInterval - describes the consecutive intervals Promo2 is started, naming the months the promotion is started anew. E.g. \"Feb,May,Aug,Nov\" means each round starts in February, May, August, November of any given year for that store"
   ]
  },
  {
   "cell_type": "code",
   "execution_count": 72,
   "metadata": {},
   "outputs": [
    {
     "data": {
      "text/plain": [
       "75860.0"
      ]
     },
     "execution_count": 72,
     "metadata": {},
     "output_type": "execute_result"
    }
   ],
   "source": [
    "df1['competition_distance'].max()"
   ]
  },
  {
   "cell_type": "code",
   "execution_count": 73,
   "metadata": {},
   "outputs": [],
   "source": [
    "#Resolvendo NA com lógica de negócio\n",
    "\n",
    "# competition_distance ---------------------------------------------------------------------------------------------------------------------------\n",
    "'''\n",
    "No caso da desta coluna que se refere a: \"distance in meters to the nearest competitor store\", no caso desses NAs pode ser\n",
    "que se refira a lojas muito distantes, sem concorrência no entorno.\n",
    "\n",
    "O math.isnan dirá nessa linha nessa coluna se ela é NA\n",
    "'''\n",
    "# lambda x: 200000.0 if math.isnan(x['competition_distance']) else x['competition_distance'])\n",
    "df1['competition_distance'] = df1['competition_distance'].apply(lambda x: 200000.0 if math.isnan(x) else x)\n",
    "\n",
    "\n",
    "\n",
    "# competition_open_since_month --------------------------------------------------------------------------------------------------------------------\n",
    "'''\n",
    "No caso da desta coluna que se refere a: \"gives the approximate year and month of the time the nearest competitor was opened\", no caso desses NAs \n",
    "pode ser que se refira a lojas que não existem por perto também e pode ser uma loja muito antiga ou esqueceram de preencher msm.\n",
    "\n",
    "Inicialmente no primeiro ciclo do CRISP, atribuiremos os a data na data de abertura do competidor, isso se tiver valor\n",
    "na coluna de distancia do competidor, pois indica que existe realmente uma loja ali.\n",
    "Tentaremos isso pois ele está pensando lá na frente na etapa de feature engineering, pois tem algumas var que derivam do tempo que sao\n",
    "muito importantes para representar o comportamento, ex: quanto tempo faz desde que um evento aconteceu?\n",
    "\n",
    "Quando tem mais de uma coluna (date e competition_open_since_month) tem que passar o axis=1 para dizer que é ao longo das colunas.\n",
    "'''\n",
    "\n",
    "df1['competition_open_since_month'] = df1.apply(lambda x: x['date'].month if math.isnan(x['competition_open_since_month']) else x['competition_open_since_month'], axis=1)\n",
    "\n",
    "# competition_open_since_year --------------------------------------------------------------------------------------------------------------------\n",
    "'''\n",
    "Mesma lógica do de cima\n",
    "'''\n",
    "df1['competition_open_since_year'] = df1.apply(lambda x: x['date'].year if math.isnan(x['competition_open_since_year']) else x['competition_open_since_year'], axis=1)\n",
    "\n",
    "\n",
    "# promo2_since_week ------------------------------------------------------------------------------------------------------------------------------\n",
    "df1['promo2_since_week'] = df1.apply(lambda x: x['date'].week if math.isnan(x['promo2_since_week']) else x['promo2_since_week'], axis=1)\n",
    "\n",
    "\n",
    "# promo2_since_year ------------------------------------------------------------------------------------------------------------------------------\n",
    "df1['promo2_since_year'] = df1.apply(lambda x: x['date'].year if math.isnan(x['promo2_since_year']) else x['promo2_since_year'], axis=1)\n",
    "\n",
    "\n",
    "# promo_interval ---------------------------------------------------------------------------------------------------------------------------------\n",
    "# inplace igual a true para nao retornar nenhum valor e sim para fazer modificar direto na coluna\n",
    "month_map = {1:'Jan', 2:'Feb', 3:'Mar', 4:'Apr', 5:'May', 6:'Jun', 7:'Jul', 8:'Aug', 9:'Sep', 10:'Oct', 11:'Nov', 12:'Dez'}\n",
    "\n",
    "df1['promo_interval'].fillna(0, inplace=True)\n",
    "\n",
    "# extraindo o mês da data e aplicando esse dicionário para fazer a tradução\n",
    "df1['month_map'] = df1['date'].dt.month.map(month_map)\n",
    "\n",
    "df1['is_promo'] = df1[['promo_interval', 'month_map']].apply(lambda x: 0 if x['promo_interval'] == 0 else 1 if x['month_map'] in x['promo_interval'].split(',') else 0, axis=1)"
   ]
  },
  {
   "cell_type": "code",
   "execution_count": 74,
   "metadata": {},
   "outputs": [
    {
     "data": {
      "text/plain": [
       "store                           0\n",
       "day_of_week                     0\n",
       "date                            0\n",
       "sales                           0\n",
       "customers                       0\n",
       "open                            0\n",
       "promo                           0\n",
       "state_holiday                   0\n",
       "school_holiday                  0\n",
       "store_type                      0\n",
       "assortment                      0\n",
       "competition_distance            0\n",
       "competition_open_since_month    0\n",
       "competition_open_since_year     0\n",
       "promo2                          0\n",
       "promo2_since_week               0\n",
       "promo2_since_year               0\n",
       "promo_interval                  0\n",
       "month_map                       0\n",
       "is_promo                        0\n",
       "dtype: int64"
      ]
     },
     "execution_count": 74,
     "metadata": {},
     "output_type": "execute_result"
    }
   ],
   "source": [
    "df1.isna().sum()"
   ]
  },
  {
   "attachments": {},
   "cell_type": "markdown",
   "metadata": {},
   "source": [
    "## 1.6 Change Types"
   ]
  },
  {
   "cell_type": "code",
   "execution_count": 75,
   "metadata": {},
   "outputs": [
    {
     "data": {
      "text/plain": [
       "store                                    int64\n",
       "day_of_week                              int64\n",
       "date                            datetime64[ns]\n",
       "sales                                    int64\n",
       "customers                                int64\n",
       "open                                     int64\n",
       "promo                                    int64\n",
       "state_holiday                           object\n",
       "school_holiday                           int64\n",
       "store_type                              object\n",
       "assortment                              object\n",
       "competition_distance                   float64\n",
       "competition_open_since_month             int64\n",
       "competition_open_since_year              int64\n",
       "promo2                                   int64\n",
       "promo2_since_week                        int64\n",
       "promo2_since_year                        int64\n",
       "promo_interval                          object\n",
       "month_map                               object\n",
       "is_promo                                 int64\n",
       "dtype: object"
      ]
     },
     "execution_count": 75,
     "metadata": {},
     "output_type": "execute_result"
    }
   ],
   "source": [
    "'''Sempre que fizer uma operação em cima das colunas igual ao tópico 1.5, é importante checar de novo para ver como estão os tipos de cada uma \n",
    "das colunas porque pode ser que o resultado daquela operação tenha mudado o tipo original.\n",
    "'''\n",
    "\n",
    "df1.dtypes\n",
    "\n",
    "#Convertido de float para int.\n",
    "\n",
    "df1['competition_open_since_month'] = np.int64(df1['competition_open_since_month'])\n",
    "df1['competition_open_since_year'] = np.int64(df1['competition_open_since_year'])\n",
    "\n",
    "df1['promo2_since_week'] = np.int64(df1['promo2_since_week'])\n",
    "df1['promo2_since_year'] = np.int64(df1['promo2_since_year'])\n",
    "\n",
    "df1.dtypes"
   ]
  },
  {
   "attachments": {},
   "cell_type": "markdown",
   "metadata": {},
   "source": [
    "## 1.7 Descriptive Statistical "
   ]
  },
  {
   "cell_type": "code",
   "execution_count": 76,
   "metadata": {},
   "outputs": [],
   "source": [
    "'''A descrição estatística serve para duas coisas:\n",
    "\n",
    "1- Ganhar conhecimento de negócio.\n",
    "    Duas grande métricas de estatística: Dispersão e tendência central - são métricas de estatística de 1° ordem\n",
    "       \n",
    "        *Tendência Central: resume os dados em um único número. Ex: média e mediana.\n",
    "        E depois para complementar essa informação, pois apenas com a tendência central não diz o quão esparso estão os dados da minha média.\n",
    "\n",
    "        *Dispersão: diz se está muito concentrado perto da média(por exemplo) ou muito disperso em relação a ela.\n",
    "        Nos permite detectar a dispersão dos dados:\n",
    "            \n",
    "            Variância:\n",
    "            -------------------------------------------------------------------------------------------------------------------------------------\n",
    "            Desvio Padrão: distância dos pontos em relação a média.\n",
    "            -------------------------------------------------------------------------------------------------------------------------------------\n",
    "            Min e Max;\n",
    "            -------------------------------------------------------------------------------------------------------------------------------------\n",
    "            Range: valore entre mínimo e máximo.\n",
    "            -------------------------------------------------------------------------------------------------------------------------------------\n",
    "            Skew: Como é a deformação da minha distribuição em relação a normal(sino - var mais pra esquerda skew +, mais pra direita skew-).\n",
    "            -------------------------------------------------------------------------------------------------------------------------------------\n",
    "            Kurtosis: Diz sobre concentração dos dados, quanto maior a Kurtosis positiva, significa mais dados concentrados e um pico muito alto,\n",
    "                agora, dados com um pico menor, mais dispersos, kurtosis que tende para valores negativos.\n",
    "            -------------------------------------------------------------------------------------------------------------------------------------\n",
    "\n",
    "2- Conseguir detectar alguns erros.\n",
    "    Exemplo uma soma de vendas com valor negativo, não faz sentido venda negativa. Tentar entender o pq disso, pode ser erro de sistema etc.\n",
    "\n",
    "Separar var numerica de categorica, da pra fazer pras duas mas a forma como faz pra cad é diferente\n",
    "\n",
    "'''\n",
    "\n",
    "#Separar var numerica de categorica\n",
    "\n",
    "num_attributes = df1.select_dtypes(include=['int64','float64'])\n",
    "cat_attributes = df1.select_dtypes(exclude=['int64','float64','datetime64[ns]'])\n",
    "\n",
    "# num_attributes e cat_attributes são dataframes."
   ]
  },
  {
   "attachments": {},
   "cell_type": "markdown",
   "metadata": {},
   "source": [
    "### 1.7.1 Numerical Attributes"
   ]
  },
  {
   "cell_type": "code",
   "execution_count": 77,
   "metadata": {},
   "outputs": [
    {
     "data": {
      "text/html": [
       "<div>\n",
       "<style scoped>\n",
       "    .dataframe tbody tr th:only-of-type {\n",
       "        vertical-align: middle;\n",
       "    }\n",
       "\n",
       "    .dataframe tbody tr th {\n",
       "        vertical-align: top;\n",
       "    }\n",
       "\n",
       "    .dataframe thead th {\n",
       "        text-align: right;\n",
       "    }\n",
       "</style>\n",
       "<table border=\"1\" class=\"dataframe\">\n",
       "  <thead>\n",
       "    <tr style=\"text-align: right;\">\n",
       "      <th></th>\n",
       "      <th>attributes</th>\n",
       "      <th>min</th>\n",
       "      <th>max</th>\n",
       "      <th>range</th>\n",
       "      <th>mean</th>\n",
       "      <th>median</th>\n",
       "      <th>std</th>\n",
       "      <th>skew</th>\n",
       "      <th>kurtosis</th>\n",
       "    </tr>\n",
       "  </thead>\n",
       "  <tbody>\n",
       "    <tr>\n",
       "      <th>0</th>\n",
       "      <td>store</td>\n",
       "      <td>1.0</td>\n",
       "      <td>1115.0</td>\n",
       "      <td>1114.0</td>\n",
       "      <td>558.429727</td>\n",
       "      <td>558.0</td>\n",
       "      <td>321.908493</td>\n",
       "      <td>-0.000955</td>\n",
       "      <td>-1.200524</td>\n",
       "    </tr>\n",
       "    <tr>\n",
       "      <th>1</th>\n",
       "      <td>day_of_week</td>\n",
       "      <td>1.0</td>\n",
       "      <td>7.0</td>\n",
       "      <td>6.0</td>\n",
       "      <td>3.998341</td>\n",
       "      <td>4.0</td>\n",
       "      <td>1.997390</td>\n",
       "      <td>0.001593</td>\n",
       "      <td>-1.246873</td>\n",
       "    </tr>\n",
       "    <tr>\n",
       "      <th>2</th>\n",
       "      <td>sales</td>\n",
       "      <td>0.0</td>\n",
       "      <td>41551.0</td>\n",
       "      <td>41551.0</td>\n",
       "      <td>5773.818972</td>\n",
       "      <td>5744.0</td>\n",
       "      <td>3849.924283</td>\n",
       "      <td>0.641460</td>\n",
       "      <td>1.778375</td>\n",
       "    </tr>\n",
       "    <tr>\n",
       "      <th>3</th>\n",
       "      <td>customers</td>\n",
       "      <td>0.0</td>\n",
       "      <td>7388.0</td>\n",
       "      <td>7388.0</td>\n",
       "      <td>633.145946</td>\n",
       "      <td>609.0</td>\n",
       "      <td>464.411506</td>\n",
       "      <td>1.598650</td>\n",
       "      <td>7.091773</td>\n",
       "    </tr>\n",
       "    <tr>\n",
       "      <th>4</th>\n",
       "      <td>open</td>\n",
       "      <td>0.0</td>\n",
       "      <td>1.0</td>\n",
       "      <td>1.0</td>\n",
       "      <td>0.830107</td>\n",
       "      <td>1.0</td>\n",
       "      <td>0.375539</td>\n",
       "      <td>-1.758045</td>\n",
       "      <td>1.090723</td>\n",
       "    </tr>\n",
       "    <tr>\n",
       "      <th>5</th>\n",
       "      <td>promo</td>\n",
       "      <td>0.0</td>\n",
       "      <td>1.0</td>\n",
       "      <td>1.0</td>\n",
       "      <td>0.381515</td>\n",
       "      <td>0.0</td>\n",
       "      <td>0.485758</td>\n",
       "      <td>0.487838</td>\n",
       "      <td>-1.762018</td>\n",
       "    </tr>\n",
       "    <tr>\n",
       "      <th>6</th>\n",
       "      <td>school_holiday</td>\n",
       "      <td>0.0</td>\n",
       "      <td>1.0</td>\n",
       "      <td>1.0</td>\n",
       "      <td>0.178647</td>\n",
       "      <td>0.0</td>\n",
       "      <td>0.383056</td>\n",
       "      <td>1.677842</td>\n",
       "      <td>0.815154</td>\n",
       "    </tr>\n",
       "    <tr>\n",
       "      <th>7</th>\n",
       "      <td>competition_distance</td>\n",
       "      <td>20.0</td>\n",
       "      <td>200000.0</td>\n",
       "      <td>199980.0</td>\n",
       "      <td>5935.442677</td>\n",
       "      <td>2330.0</td>\n",
       "      <td>12547.646829</td>\n",
       "      <td>10.242344</td>\n",
       "      <td>147.789712</td>\n",
       "    </tr>\n",
       "    <tr>\n",
       "      <th>8</th>\n",
       "      <td>competition_open_since_month</td>\n",
       "      <td>1.0</td>\n",
       "      <td>12.0</td>\n",
       "      <td>11.0</td>\n",
       "      <td>6.786849</td>\n",
       "      <td>7.0</td>\n",
       "      <td>3.311085</td>\n",
       "      <td>-0.042076</td>\n",
       "      <td>-1.232607</td>\n",
       "    </tr>\n",
       "    <tr>\n",
       "      <th>9</th>\n",
       "      <td>competition_open_since_year</td>\n",
       "      <td>1900.0</td>\n",
       "      <td>2015.0</td>\n",
       "      <td>115.0</td>\n",
       "      <td>2010.324840</td>\n",
       "      <td>2012.0</td>\n",
       "      <td>5.515591</td>\n",
       "      <td>-7.235657</td>\n",
       "      <td>124.071304</td>\n",
       "    </tr>\n",
       "    <tr>\n",
       "      <th>10</th>\n",
       "      <td>promo2</td>\n",
       "      <td>0.0</td>\n",
       "      <td>1.0</td>\n",
       "      <td>1.0</td>\n",
       "      <td>0.500564</td>\n",
       "      <td>1.0</td>\n",
       "      <td>0.500000</td>\n",
       "      <td>-0.002255</td>\n",
       "      <td>-1.999999</td>\n",
       "    </tr>\n",
       "    <tr>\n",
       "      <th>11</th>\n",
       "      <td>promo2_since_week</td>\n",
       "      <td>1.0</td>\n",
       "      <td>52.0</td>\n",
       "      <td>51.0</td>\n",
       "      <td>23.619033</td>\n",
       "      <td>22.0</td>\n",
       "      <td>14.310057</td>\n",
       "      <td>0.178723</td>\n",
       "      <td>-1.184046</td>\n",
       "    </tr>\n",
       "    <tr>\n",
       "      <th>12</th>\n",
       "      <td>promo2_since_year</td>\n",
       "      <td>2009.0</td>\n",
       "      <td>2015.0</td>\n",
       "      <td>6.0</td>\n",
       "      <td>2012.793297</td>\n",
       "      <td>2013.0</td>\n",
       "      <td>1.662657</td>\n",
       "      <td>-0.784436</td>\n",
       "      <td>-0.210075</td>\n",
       "    </tr>\n",
       "    <tr>\n",
       "      <th>13</th>\n",
       "      <td>is_promo</td>\n",
       "      <td>0.0</td>\n",
       "      <td>1.0</td>\n",
       "      <td>1.0</td>\n",
       "      <td>0.159901</td>\n",
       "      <td>0.0</td>\n",
       "      <td>0.366514</td>\n",
       "      <td>1.855857</td>\n",
       "      <td>1.444209</td>\n",
       "    </tr>\n",
       "  </tbody>\n",
       "</table>\n",
       "</div>"
      ],
      "text/plain": [
       "                      attributes     min       max     range         mean  \\\n",
       "0                          store     1.0    1115.0    1114.0   558.429727   \n",
       "1                    day_of_week     1.0       7.0       6.0     3.998341   \n",
       "2                          sales     0.0   41551.0   41551.0  5773.818972   \n",
       "3                      customers     0.0    7388.0    7388.0   633.145946   \n",
       "4                           open     0.0       1.0       1.0     0.830107   \n",
       "5                          promo     0.0       1.0       1.0     0.381515   \n",
       "6                 school_holiday     0.0       1.0       1.0     0.178647   \n",
       "7           competition_distance    20.0  200000.0  199980.0  5935.442677   \n",
       "8   competition_open_since_month     1.0      12.0      11.0     6.786849   \n",
       "9    competition_open_since_year  1900.0    2015.0     115.0  2010.324840   \n",
       "10                        promo2     0.0       1.0       1.0     0.500564   \n",
       "11             promo2_since_week     1.0      52.0      51.0    23.619033   \n",
       "12             promo2_since_year  2009.0    2015.0       6.0  2012.793297   \n",
       "13                      is_promo     0.0       1.0       1.0     0.159901   \n",
       "\n",
       "    median           std       skew    kurtosis  \n",
       "0    558.0    321.908493  -0.000955   -1.200524  \n",
       "1      4.0      1.997390   0.001593   -1.246873  \n",
       "2   5744.0   3849.924283   0.641460    1.778375  \n",
       "3    609.0    464.411506   1.598650    7.091773  \n",
       "4      1.0      0.375539  -1.758045    1.090723  \n",
       "5      0.0      0.485758   0.487838   -1.762018  \n",
       "6      0.0      0.383056   1.677842    0.815154  \n",
       "7   2330.0  12547.646829  10.242344  147.789712  \n",
       "8      7.0      3.311085  -0.042076   -1.232607  \n",
       "9   2012.0      5.515591  -7.235657  124.071304  \n",
       "10     1.0      0.500000  -0.002255   -1.999999  \n",
       "11    22.0     14.310057   0.178723   -1.184046  \n",
       "12  2013.0      1.662657  -0.784436   -0.210075  \n",
       "13     0.0      0.366514   1.855857    1.444209  "
      ]
     },
     "execution_count": 77,
     "metadata": {},
     "output_type": "execute_result"
    }
   ],
   "source": [
    "#Central Tendency (ct) - mean, median\n",
    "\n",
    "ct1 = pd.DataFrame(num_attributes.apply(np.mean)).T\n",
    "ct2 = pd.DataFrame(num_attributes.apply(np.median)).T\n",
    "\n",
    "# Dispersion - std, min, max, range, skew, kurtosis\n",
    "d1 = pd.DataFrame(num_attributes.apply(np.std) ).T\n",
    "d2 = pd.DataFrame(num_attributes.apply(min) ).T\n",
    "d3 = pd.DataFrame(num_attributes.apply(max) ).T\n",
    "d4 = pd.DataFrame(num_attributes.apply(lambda x: x.max() - x.min()) ).T\n",
    "d5 = pd.DataFrame(num_attributes.apply(lambda x: x.skew()) ).T\n",
    "d6 = pd.DataFrame(num_attributes.apply(lambda x: x.kurtosis()) ).T\n",
    "\n",
    "#Concatenate - save in \"m\" metrics\n",
    "\n",
    "m = pd.concat([d2, d3, d4, ct1, ct2, d1, d5, d6]).T.reset_index()\n",
    "m.columns = ['attributes', 'min', 'max', 'range', 'mean', 'median', 'std', 'skew', 'kurtosis']\n",
    "\n",
    "m\n",
    "\n",
    "#Média e mediana parecidas quer dizer que não há um deslocamento da normal muito grande, que é representando pela skew (próxima de 0, prox de normal).\n",
    "# E kurtosis próximo de 1, não tem pico muito grande."
   ]
  },
  {
   "cell_type": "code",
   "execution_count": 78,
   "metadata": {},
   "outputs": [],
   "source": [
    "#Em competition_distance: a skew está em 10, muito alta, super deslocado para a esquerda;\n",
    "#E uma kurtosis gigantesca de 147\n",
    "#Então sem olhar da pra distribuição, da pra ver que parece que essa distribuição parece uma tipo poisson, pico alto no começo dps ela vai caindo.\n",
    "#Isso significa que tem uma concentração muito alta no começo\n",
    "#Muita concentração, kurtosis alta\n",
    "\n",
    "# Em customers ele olhou a mediana (609) e o desvio padrão std (464), e comentou que, arredondano, aproximadamente tem dia que teve 200 ou tem dia\n",
    "#que teve 1000"
   ]
  },
  {
   "cell_type": "code",
   "execution_count": 79,
   "metadata": {},
   "outputs": [
    {
     "name": "stderr",
     "output_type": "stream",
     "text": [
      "C:\\Users\\andre\\AppData\\Local\\Temp\\ipykernel_24632\\710812770.py:1: UserWarning: \n",
      "\n",
      "`distplot` is a deprecated function and will be removed in seaborn v0.14.0.\n",
      "\n",
      "Please adapt your code to use either `displot` (a figure-level function with\n",
      "similar flexibility) or `histplot` (an axes-level function for histograms).\n",
      "\n",
      "For a guide to updating your code to use the new functions, please see\n",
      "https://gist.github.com/mwaskom/de44147ed2974457ad6372750bbe5751\n",
      "\n",
      "  sns.distplot(df1['sales'])\n"
     ]
    },
    {
     "data": {
      "text/plain": [
       "<AxesSubplot: xlabel='sales', ylabel='Density'>"
      ]
     },
     "execution_count": 79,
     "metadata": {},
     "output_type": "execute_result"
    },
    {
     "data": {
      "image/png": "[encoded data removed]",
      "text/plain": [
       "<Figure size 640x480 with 1 Axes>"
      ]
     },
     "metadata": {},
     "output_type": "display_data"
    }
   ],
   "source": [
    "sns.distplot(df1['sales'])"
   ]
  },
  {
   "attachments": {},
   "cell_type": "markdown",
   "metadata": {},
   "source": [
    "### 1.7.2 Categorical Attributes"
   ]
  },
  {
   "cell_type": "code",
   "execution_count": 80,
   "metadata": {},
   "outputs": [
    {
     "data": {
      "text/plain": [
       "state_holiday      4\n",
       "store_type         4\n",
       "assortment         3\n",
       "promo_interval     4\n",
       "month_map         12\n",
       "dtype: int64"
      ]
     },
     "execution_count": 80,
     "metadata": {},
     "output_type": "execute_result"
    }
   ],
   "source": [
    "# Boxplot tem dispersão e tendencia central em um lugar só\n",
    "\n",
    "# Quantos níveis cada var catergorica tem? código abaixo\n",
    "# Shape[0] para ver todos os valores unicos de cada categoria\n",
    "\n",
    "cat_attributes.apply(lambda x: x.unique().shape[0])"
   ]
  },
  {
   "cell_type": "code",
   "execution_count": 81,
   "metadata": {},
   "outputs": [
    {
     "data": {
      "text/plain": [
       "<AxesSubplot: xlabel='state_holiday', ylabel='sales'>"
      ]
     },
     "execution_count": 81,
     "metadata": {},
     "output_type": "execute_result"
    },
    {
     "data": {
      "image/png": "[encoded data removed]",
      "text/plain": [
       "<Figure size 640x480 with 1 Axes>"
      ]
     },
     "metadata": {},
     "output_type": "display_data"
    }
   ],
   "source": [
    "#x referencia -nome categoria, yo que quero medir -vendas - como estão a dispersão das vendas em cada um dos níves da minha var categorica\n",
    "# sns.boxplot(x='state_holiday' ,y='sales', data=df1)\n",
    "\n",
    "#No gráfico não da pra ver nada praticamente, pq os nossos ranges, a dimensão das variáveis está muito diferente \n",
    "#Isso é provável pq temos os dias que as lojas estão fechadas e dias que as vendas são 0 pq as lojas estão fechadas\n",
    "\n",
    "# filtrando\n",
    "\n",
    "aux1 = df1[(df1['state_holiday'] != '0') & (df1['sales'] > 0)]\n",
    "\n",
    "sns.boxplot(x='state_holiday' ,y='sales', data=aux1)"
   ]
  },
  {
   "cell_type": "code",
   "execution_count": 82,
   "metadata": {},
   "outputs": [
    {
     "data": {
      "text/plain": [
       "<AxesSubplot: xlabel='assortment', ylabel='sales'>"
      ]
     },
     "execution_count": 82,
     "metadata": {},
     "output_type": "execute_result"
    },
    {
     "data": {
      "image/png": "[encoded data removed]",
      "text/plain": [
       "<Figure size 640x480 with 3 Axes>"
      ]
     },
     "metadata": {},
     "output_type": "display_data"
    }
   ],
   "source": [
    "\n",
    "aux = df1[(df1['state_holiday'] != '0') & (df1['sales'] > 0)]\n",
    "plt.subplot( 1, 3, 1 )\n",
    "sns.boxplot( x='state_holiday', y='sales', data=aux )\n",
    "plt.subplot( 1, 3, 2 )\n",
    "sns.boxplot( x='store_type', y='sales', data=aux )\n",
    "plt.subplot( 1, 3, 3 )\n",
    "sns.boxplot( x='assortment', y='sales', data=aux )\n",
    "\n"
   ]
  },
  {
   "cell_type": "code",
   "execution_count": 83,
   "metadata": {},
   "outputs": [
    {
     "data": {
      "text/plain": [
       "'\\nComo o Boxplot funciona?\\n\\nLinha do meio da caixa: é o quiquagésimo quartio, que é a mediana, é o quartil 50 (metade)\\nSe pegar todos os dados da coluna e ordenar de forma crescente e contar as posiçoes, quando chegar na posiçao 50(na metade), este valor será sua\\nmediana, que é aquela linha dentro da caixa\\n\\nlinha de baixo da caixa: vigésimo quinto quartil (qaurtil 25)\\n\\nlinha de cima da caixa: quartil 75\\n\\nNO gráfico entre o quártil 25 e 50 é o volume dos numeros entre esses quartis \\n\\nA linha de cima lá o \\'T\\' é o 100 (valor max) e o la debaixo o valor mínimo\\n\\n\\nAcima do tracinho T la em cima temos os outliers, que ele considera como 3x o desvio padrao(regra básica de definição do outlier)\\n\\n\\n\\ndados pouco volumosos em torno da mediana, então quer dizer que tenho uma concentração maior em torno da mediana\\n\\n\\nnoção de como as vendas estão distribuídas dentro de cada um dos níveis das var categoricas\\n\\nAula 7 final dela ele faz uma análise simples desses gráficos gerados \\n\\nVERIFICAR!!!!!!!!!!!\\n\"min\" nao è o valor mìnimo e sim = Q1-1.5* (Q3-Q1)\\n\"max\" nao è o valor màximo e sim = Q3+1.5 *(Q3-Q1)\\n'"
      ]
     },
     "execution_count": 83,
     "metadata": {},
     "output_type": "execute_result"
    }
   ],
   "source": [
    "'''\n",
    "Como o Boxplot funciona?\n",
    "\n",
    "Linha do meio da caixa: é o quiquagésimo quartio, que é a mediana, é o quartil 50 (metade)\n",
    "Se pegar todos os dados da coluna e ordenar de forma crescente e contar as posiçoes, quando chegar na posiçao 50(na metade), este valor será sua\n",
    "mediana, que é aquela linha dentro da caixa\n",
    "\n",
    "linha de baixo da caixa: vigésimo quinto quartil (qaurtil 25)\n",
    "\n",
    "linha de cima da caixa: quartil 75\n",
    "\n",
    "NO gráfico entre o quártil 25 e 50 é o volume dos numeros entre esses quartis \n",
    "\n",
    "A linha de cima lá o 'T' é o 100 (valor max) e o la debaixo o valor mínimo\n",
    "\n",
    "\n",
    "Acima do tracinho T la em cima temos os outliers, que ele considera como 3x o desvio padrao(regra básica de definição do outlier)\n",
    "\n",
    "\n",
    "\n",
    "dados pouco volumosos em torno da mediana, então quer dizer que tenho uma concentração maior em torno da mediana\n",
    "\n",
    "\n",
    "noção de como as vendas estão distribuídas dentro de cada um dos níveis das var categoricas\n",
    "\n",
    "Aula 7 final dela ele faz uma análise simples desses gráficos gerados \n",
    "\n",
    "VERIFICAR!!!!!!!!!!!\n",
    "\"min\" nao è o valor mìnimo e sim = Q1-1.5* (Q3-Q1)\n",
    "\"max\" nao è o valor màximo e sim = Q3+1.5 *(Q3-Q1)\n",
    "'''\n"
   ]
  }
 ],
 "metadata": {
  "kernelspec": {
   "display_name": "ds_em_producao",
   "language": "python",
   "name": "python3"
  },
  "language_info": {
   "codemirror_mode": {
    "name": "ipython",
    "version": 3
   },
   "file_extension": ".py",
   "mimetype": "text/x-python",
   "name": "python",
   "nbconvert_exporter": "python",
   "pygments_lexer": "ipython3",
   "version": "3.9.16"
  },
  "orig_nbformat": 4,
  "vscode": {
   "interpreter": {
    "hash": "ed82eeea7851eb7a444afadfdf1ce63f185d4fb1950f577eb309930b4e820a13"
   }
  }
 },
 "nbformat": 4,
 "nbformat_minor": 2
}
